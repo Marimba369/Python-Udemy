{
 "cells": [
  {
   "cell_type": "code",
   "execution_count": null,
   "metadata": {},
   "outputs": [],
   "source": [
    "stack = [1,2,3,4,5]\n",
    "\n",
    "try:\n",
    "    print(stack[40])\n",
    "\n",
    "except IndexError as er:\n",
    "    print(\"Error on index... \" + \"\\n\" + str(er))\n",
    "\n",
    "else:\n",
    "    print(\"stack acessed!!!\")"
   ]
  },
  {
   "cell_type": "code",
   "execution_count": null,
   "metadata": {},
   "outputs": [],
   "source": [
    "def teste(n):\n",
    "    if n >= 0:\n",
    "        raise Exception(\"Error in value....\")\n",
    "    print(n)\n",
    "\n",
    "try:\n",
    "    teste(-9)\n",
    "except ValueError as err:\n",
    "    print(\"Other erro !!! \" + str(err))\n",
    "\n",
    "except Exception as erro1:\n",
    "    print(\"Error: \" + str(erro1))\n"
   ]
  },
  {
   "cell_type": "code",
   "execution_count": null,
   "metadata": {},
   "outputs": [],
   "source": [
    "def teste(n):\n",
    "    assert(n >= 0)\n",
    "    print(n)\n",
    "\n",
    "try:\n",
    "    teste(-5)\n",
    "except AssertionError:\n",
    "    print(\"Erro...\")\n",
    "except: \n",
    "    print(\"other error...\")"
   ]
  },
  {
   "cell_type": "code",
   "execution_count": null,
   "metadata": {},
   "outputs": [],
   "source": [
    "def soma_string(string1, string2):\n",
    "    try:\n",
    "        number = int(string2)\n",
    "        number2 = int(string1)\n",
    "\n",
    "        soma = number + number2\n",
    "        return soma\n",
    "\n",
    "    except ValueError as err:\n",
    "        print(\"Error...\" + str(err))\n",
    "\n",
    "soma_string(\"1234e\", \"123\")"
   ]
  },
  {
   "cell_type": "code",
   "execution_count": null,
   "metadata": {},
   "outputs": [],
   "source": [
    "class Caractere:\n",
    "    def __init__(self, charact):\n",
    "        self.__charact = charact\n",
    "        if len(self.__charact) > 1:\n",
    "            raise ValueError(\"Value not valid!!!\")\n",
    "\n",
    "teste = Caractere(\"leonel\")"
   ]
  },
  {
   "cell_type": "code",
   "execution_count": null,
   "metadata": {},
   "outputs": [],
   "source": [
    "def error(collection, pos):\n",
    "    try:\n",
    "        collection[pos]\n",
    "    except IndexError:\n",
    "        return None\n",
    "    else:\n",
    "        return collection[pos]\n",
    "\n",
    "print(error([1,2,3], 3))"
   ]
  },
  {
   "cell_type": "code",
   "execution_count": null,
   "metadata": {},
   "outputs": [],
   "source": [
    "def digit():\n",
    "    try:\n",
    "        value = input(\"Insert information: \")\n",
    "    except InterruptedError as error:\n",
    "        print(\"Interrupt \" + str(error))\n",
    "    else:\n",
    "        print(value)\n",
    "\n",
    "digit()"
   ]
  },
  {
   "cell_type": "code",
   "execution_count": 17,
   "metadata": {},
   "outputs": [
    {
     "data": {
      "text/plain": [
       "'9'"
      ]
     },
     "execution_count": 17,
     "metadata": {},
     "output_type": "execute_result"
    }
   ],
   "source": [
    "class Character:\n",
    "    def __init__(self, character):\n",
    "        self.__charact = \" \"\n",
    "        self.character = character\n",
    "    @property\n",
    "    def character(self):\n",
    "        return self.__charact\n",
    "    @character.setter\n",
    "    def character(self, value):\n",
    "        if len(value) > 1:\n",
    "            raise Exception(\"Invalid Digit...\")\n",
    "        else:\n",
    "            self.__charact = value\n",
    "\n",
    "test = Character(\"9\")\n",
    "test.character\n"
   ]
  },
  {
   "cell_type": "markdown",
   "metadata": {},
   "source": [
    "<h1>\n",
    "    Iterators\n",
    "<h1>"
   ]
  },
  {
   "cell_type": "code",
   "execution_count": null,
   "metadata": {},
   "outputs": [],
   "source": [
    "class Collection:\n",
    "    def __init__(self, index_max):\n",
    "        self.length = index_max\n",
    "\n",
    "    def __iter__(self):\n",
    "        self.index_act = 0\n",
    "        return self\n",
    "\n",
    "    def __next__(self):\n",
    "        if self.length < self.index_act:\n",
    "            raise StopIteration\n",
    "        else:\n",
    "            value = self.index_act\n",
    "            self.index_act += 1\n",
    "            return value\n",
    "\n",
    "collection = Collection(10)\n",
    "\n",
    "\n",
    "for i in collection:\n",
    "   print(i)\n"
   ]
  }
 ],
 "metadata": {
  "kernelspec": {
   "display_name": "Python 3",
   "language": "python",
   "name": "python3"
  },
  "language_info": {
   "codemirror_mode": {
    "name": "ipython",
    "version": 3
   },
   "file_extension": ".py",
   "mimetype": "text/x-python",
   "name": "python",
   "nbconvert_exporter": "python",
   "pygments_lexer": "ipython3",
   "version": "3.10.12"
  },
  "orig_nbformat": 4
 },
 "nbformat": 4,
 "nbformat_minor": 2
}
