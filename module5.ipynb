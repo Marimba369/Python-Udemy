{
 "cells": [
  {
   "cell_type": "code",
   "execution_count": null,
   "metadata": {},
   "outputs": [],
   "source": [
    "import datetime\n",
    "\n",
    "data = datetime.datetime.now()\n",
    "\n",
    "print( data )\n",
    "\n",
    "data = datetime.datetime(year=2000,month=8,day=18)\n",
    "\n",
    "print(data)"
   ]
  },
  {
   "cell_type": "code",
   "execution_count": null,
   "metadata": {},
   "outputs": [],
   "source": [
    "from datetime import datetime, timedelta\n",
    "\n",
    "year = datetime.now().year\n",
    "\n",
    "print(year)"
   ]
  },
  {
   "cell_type": "markdown",
   "metadata": {},
   "source": [
    "Course Exercises 1º list"
   ]
  },
  {
   "cell_type": "code",
   "execution_count": null,
   "metadata": {},
   "outputs": [],
   "source": [
    "def sub ( num1, num2 ):\n",
    "    return abs(num1) - abs(num2)\n",
    "\n",
    "print(sub(4,2))"
   ]
  },
  {
   "cell_type": "code",
   "execution_count": null,
   "metadata": {},
   "outputs": [],
   "source": [
    "def min ( *args ):\n",
    "    \n",
    "    aux = args[0]\n",
    "    for x in args:\n",
    "        if x < aux:\n",
    "            aux = x\n",
    "    return aux\n",
    "\n",
    "\n",
    "print(min(1,2,3,4,5,-2))"
   ]
  },
  {
   "cell_type": "code",
   "execution_count": null,
   "metadata": {},
   "outputs": [],
   "source": [
    "import math\n",
    "\n",
    "#2º grau\n",
    "def f ( a,b,c ):\n",
    "    return (-b + math.sqrt(b**2 - 4*a*c)) / 2 * a , (-b - math.sqrt(b**2 - 4*a*c)) / 2 * a \n",
    "\n",
    "a, b, c = input(\"digite o valor de a: \"), input(\"digite o valor de b: \"), input(\"digite o valor de c: \") \n",
    "\n",
    "print(f(float(a),float(b),float(c)))"
   ]
  },
  {
   "cell_type": "code",
   "execution_count": null,
   "metadata": {},
   "outputs": [],
   "source": [
    "def swapCase( string ):\n",
    "    return string.swapcase()\n",
    "\n",
    "print(swapCase(\"LondrEs\"))"
   ]
  },
  {
   "cell_type": "markdown",
   "metadata": {},
   "source": [
    "Course exercises 2º list"
   ]
  },
  {
   "cell_type": "code",
   "execution_count": null,
   "metadata": {},
   "outputs": [
    {
     "name": "stdout",
     "output_type": "stream",
     "text": [
      "1\n"
     ]
    }
   ],
   "source": [
    "def found( string, char ):\n",
    "    return 0 if string.find(char) == -1 else string.find(char)\n",
    "\n",
    "print(found(\"Londreos\", 'o'))   "
   ]
  },
  {
   "cell_type": "code",
   "execution_count": null,
   "metadata": {},
   "outputs": [
    {
     "name": "stdout",
     "output_type": "stream",
     "text": [
      "[1, 7, 8]\n"
     ]
    }
   ],
   "source": [
    "def search( string, char):\n",
    "    lista = list()\n",
    "    for i in range(0, len(string)):\n",
    "        if string[i] == char:\n",
    "            lista.append(i)\n",
    "    return lista\n",
    "\n",
    "print(search(\"londresoos\", \"o\"))\n"
   ]
  },
  {
   "cell_type": "code",
   "execution_count": null,
   "metadata": {},
   "outputs": [],
   "source": [
    "def word_permit( wordS, list_notPermit ):\n",
    "    for x in list_notPermit:\n",
    "        if x in wordS:\n",
    "            wordS = wordS.replace(x, '*')\n",
    "    return wordS\n",
    "    \n",
    "word = \"Ola meus amigos aqui é  o ET que levou a vossa nave à Marte, paguem a vossa Dívida!!!! Estão fodidos!!! kkkkkkk :)\"\n",
    "lista = [\"ET\", \"Dívida\", \"Marte\", \"fodidos\"]\n",
    "print(word_permit(word, lista))\n"
   ]
  },
  {
   "cell_type": "code",
   "execution_count": null,
   "metadata": {},
   "outputs": [],
   "source": [
    "#resolution try function filter\n",
    "\n",
    "word = \"Ola meus amigos aqui é  o ET que levou a vossa nave à Marte, paguem a vossa Dívida!!!! Estão fodidos!!! kkkkkkk :)\"\n",
    "lista = [\"ET\", \"Dívida\", \"Marte\", \"fodidos\"]\n",
    "\n",
    "out = [word.replace(x, '*') for x in word]\n",
    "\n",
    "print(out)"
   ]
  },
  {
   "cell_type": "code",
   "execution_count": null,
   "metadata": {},
   "outputs": [
    {
     "name": "stdout",
     "output_type": "stream",
     "text": [
      "False\n"
     ]
    }
   ],
   "source": [
    "def compareSTR( string ):\n",
    "    return string == string.lower() or string == string.upper()\n",
    "\n",
    "print(compareSTR(\"londreS\"))"
   ]
  },
  {
   "cell_type": "code",
   "execution_count": null,
   "metadata": {},
   "outputs": [],
   "source": [
    "def send_int( lista ):\n",
    "    result = list()\n",
    "    for x in lista:\n",
    "        if x.isnumeric():\n",
    "            result.append(int(x))\n",
    "    result.sort()\n",
    "    return result\n",
    "\n",
    "lista = ['7','8','3','4','5','6',\"re\"]\n",
    "\n",
    "print(send_int(lista))"
   ]
  },
  {
   "cell_type": "code",
   "execution_count": null,
   "metadata": {},
   "outputs": [],
   "source": [
    "r = 0.5\n",
    "\n",
    "print(r.conjugate())"
   ]
  },
  {
   "cell_type": "code",
   "execution_count": 4,
   "metadata": {},
   "outputs": [
    {
     "name": "stdout",
     "output_type": "stream",
     "text": [
      "True\n"
     ]
    }
   ],
   "source": [
    "def is_palindrome_list(lst):\n",
    "    # Função auxiliar para verificar se uma lista é palíndromo recursivamente\n",
    "    def is_palindrome_recursive(sublist):\n",
    "        if len(sublist) <= 1:\n",
    "            return True\n",
    "        \n",
    "        if sublist[0] != sublist[-1]:\n",
    "            return False\n",
    "        return is_palindrome_recursive(sublist[1:-1])\n",
    "    return is_palindrome_recursive(lst)\n",
    "\n",
    "# Exemplo de uso:\n",
    "lista = [8, 3, 3, 8]\n",
    "resultado = is_palindrome_list(lista)\n",
    "print(resultado)  # Saída: T"
   ]
  }
 ],
 "metadata": {
  "kernelspec": {
   "display_name": "Python 3",
   "language": "python",
   "name": "python3"
  },
  "language_info": {
   "codemirror_mode": {
    "name": "ipython",
    "version": 3
   },
   "file_extension": ".py",
   "mimetype": "text/x-python",
   "name": "python",
   "nbconvert_exporter": "python",
   "pygments_lexer": "ipython3",
   "version": "3.10.12"
  },
  "orig_nbformat": 4
 },
 "nbformat": 4,
 "nbformat_minor": 2
}
