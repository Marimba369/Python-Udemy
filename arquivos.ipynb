{
 "cells": [
  {
   "cell_type": "code",
   "execution_count": null,
   "metadata": {},
   "outputs": [],
   "source": [
    "with open(\"test.txt\", \"wt\") as arquivo:\n",
    "    arquivo.writelines(str(x) + \"\\n\" for x in [\"Leonel\", \"Figueira\", \"Caetano\"])"
   ]
  },
  {
   "cell_type": "code",
   "execution_count": null,
   "metadata": {},
   "outputs": [],
   "source": [
    "from os import path\n",
    "\n",
    "file = path.exists(\"test.txt\")\n",
    "\n",
    "if file:\n",
    "    print(\"Existe...\")\n",
    "else: \n",
    "    print(\"Não existe...\")"
   ]
  },
  {
   "cell_type": "code",
   "execution_count": 1,
   "metadata": {},
   "outputs": [],
   "source": [
    "import csv\n",
    "\n",
    "with open(\"test.csv\", \"w\") as file:\n",
    "    manipulator = csv.writer(file, delimiter=',')\n",
    "    manipulator.writerow([\"NAME\" ,\"PID\", \"RUA\"])\n",
    "    manipulator.writerow(['Leonel Caetno', '53208', 'Rua do Chiado 32'])\n"
   ]
  },
  {
   "cell_type": "code",
   "execution_count": null,
   "metadata": {},
   "outputs": [],
   "source": [
    "import csv\n",
    "\n",
    "with open(\"test2.csv\", \"w\") as arquivo:\n",
    "    manipulator = csv.writer(arquivo, delimiter=\",\")\n",
    "    manipulator.writerow([\"Name\", \"Teste\"])\n",
    "    manipulator.writerow([\"Leonel\", \"Passou\"])\n",
    "\n",
    "arquivo.close()"
   ]
  },
  {
   "cell_type": "code",
   "execution_count": null,
   "metadata": {},
   "outputs": [],
   "source": [
    "import csv\n",
    "\n",
    "with open(\"test2.csv\", \"r\") as file:\n",
    "    lines = csv.reader(file, delimiter=\",\")\n",
    "\n",
    "    for line in lines:\n",
    "        print(line)\n",
    "\n",
    "    file.close()"
   ]
  },
  {
   "cell_type": "code",
   "execution_count": null,
   "metadata": {},
   "outputs": [],
   "source": [
    "import csv\n",
    "from os import popen\n",
    "\n",
    "with open(\"ps.csv\", \"w\") as file:\n",
    "\n",
    "    manipulator = csv.writer(file, delimiter=\",\")\n",
    "\n",
    "    process_list = popen('ps aux').readlines()\n",
    "    for process_info in process_list:  # Skip the first 3 lines, which are headers\n",
    "        process_data = process_info.split()\n",
    "        manipulator.writerow(process_data)"
   ]
  },
  {
   "cell_type": "code",
   "execution_count": null,
   "metadata": {},
   "outputs": [],
   "source": [
    "import os\n",
    "\n",
    "process_list = os.popen('ps aux').readlines()\n",
    "for process_info in process_list:  # Skip the first 3 lines, which are headers\n",
    "    process_data = process_info.split()\n",
    "    print(process_data)\n"
   ]
  }
 ],
 "metadata": {
  "kernelspec": {
   "display_name": ".venv",
   "language": "python",
   "name": "python3"
  },
  "language_info": {
   "codemirror_mode": {
    "name": "ipython",
    "version": 3
   },
   "file_extension": ".py",
   "mimetype": "text/x-python",
   "name": "python",
   "nbconvert_exporter": "python",
   "pygments_lexer": "ipython3",
   "version": "3.10.12"
  }
 },
 "nbformat": 4,
 "nbformat_minor": 2
}
