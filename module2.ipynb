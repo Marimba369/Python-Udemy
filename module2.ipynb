{
 "cells": [
  {
   "cell_type": "markdown",
   "metadata": {},
   "source": [
    "if and match"
   ]
  },
  {
   "cell_type": "code",
   "execution_count": null,
   "metadata": {},
   "outputs": [],
   "source": [
    "saldo = input(\"Digite o seu saldo: \")\n",
    "div = input(\"Digite a sua divida: \")\n",
    "\n",
    "print(\"Divida positiva\" if float(div) - float(saldo) > 0.0 else \"Divida negativa\")"
   ]
  },
  {
   "cell_type": "code",
   "execution_count": null,
   "metadata": {},
   "outputs": [],
   "source": [
    "cpf, valida = input(\"DIgite o seu CPF: \"), input(\"Digite a sua senha: \")\n",
    "senha = \"Marimbacode123\"\n",
    "\n",
    "print(\"O seu CPF \",cpf if senha == valida else \"Senha incorreta\")"
   ]
  },
  {
   "cell_type": "code",
   "execution_count": null,
   "metadata": {},
   "outputs": [],
   "source": [
    "idade = int(input(\"Digite a sua idade: \"))\n",
    "\n",
    "print(\"Você é um {}\".format(\"bebê\" if idade < 4 else \"criança\" if idade < 14 else \"adulto\" if idade < 66 else \"velhote\"))\n",
    "print(\"Você é um %s\"%(\"bebê\" if idade < 4 else \"criança\" if idade < 14 else \"adulto\" if idade < 66 else \"velhote\"))"
   ]
  },
  {
   "cell_type": "code",
   "execution_count": null,
   "metadata": {},
   "outputs": [],
   "source": [
    "operador1 = float(input(\"Digite o primeiro operando: \"))\n",
    "operador2 = float(input(\"Digite o segundo operando: \"))\n",
    "operador = input(\"Digite o operador: \")\n",
    "\n",
    "match operador:\n",
    "    case \"+\":\n",
    "        print(\"A soma é %.3f\"%(operador1 + operador2))\n",
    "    case \"-\":\n",
    "        print(\"A subtração é %.3f\"%(operador1 - operador1))\n",
    "    case \"*\":\n",
    "        print(\"A multiplicação é %.3f\"%(operador1 * operador2))\n",
    "    case  \"/\":\n",
    "        print(\"A divisão é %.3f\"%(operador1 / operador2))"
   ]
  },
  {
   "cell_type": "markdown",
   "metadata": {},
   "source": [
    "Cycle while"
   ]
  },
  {
   "cell_type": "code",
   "execution_count": null,
   "metadata": {},
   "outputs": [],
   "source": [
    "count, soma = 1, 0\n",
    "\n",
    "while count < 6:\n",
    "    number = float(input(\"Digite o número: \"))\n",
    "    if number >= 0.0:\n",
    "        soma += number\n",
    "    count += 1\n",
    "\n",
    "print(\"A soma é %.3f\"%(soma))"
   ]
  },
  {
   "cell_type": "code",
   "execution_count": null,
   "metadata": {},
   "outputs": [],
   "source": [
    "count, soma = 1, 0\n",
    "\n",
    "while count < 6:\n",
    "    number = float(input(\"Digite o numero\"))\n",
    "    soma += number\n",
    "    count += 1\n",
    "\n",
    "print(count, soma)\n",
    "print(\"A media dos numeros: %.3f\"%(soma / (count-1)))"
   ]
  },
  {
   "cell_type": "code",
   "execution_count": null,
   "metadata": {},
   "outputs": [],
   "source": [
    "count = int(input(\"Digite a quantidade de elementos: \"))\n",
    "soma = 0\n",
    "\n",
    "while count != 0:\n",
    "    soma += float(input(\"Digite o elemento: \"))\n",
    "    count -= 1\n",
    "\n",
    "print(\"A soma {}\".format(soma))"
   ]
  },
  {
   "cell_type": "code",
   "execution_count": null,
   "metadata": {},
   "outputs": [],
   "source": [
    "count = 2\n",
    "\n",
    "while count < 13:\n",
    "    if not count % 2:\n",
    "        print(\"É par {}\".format(count))\n",
    "    count += 1"
   ]
  },
  {
   "cell_type": "code",
   "execution_count": null,
   "metadata": {},
   "outputs": [],
   "source": [
    "string = input(\"Digite algum caracter: \")\n",
    "count = len(string)-1\n",
    "sum_space = 0\n",
    "\n",
    "while count != 0:\n",
    "    if( string[count] == \" \" ):\n",
    "        sum_space += 1\n",
    "    count -= 1\n",
    "\n",
    "print(sum_space)"
   ]
  },
  {
   "cell_type": "code",
   "execution_count": null,
   "metadata": {},
   "outputs": [],
   "source": [
    "string = input(\"Digite a string: \")\n",
    "length = 0\n",
    "\n",
    "for i in range(0, len(string)):\n",
    "    if not string[i] == \" \":\n",
    "        length += 1\n",
    "print(\"O tamanho da string sem os caracteres vazio é {}\".format(length))"
   ]
  },
  {
   "cell_type": "code",
   "execution_count": null,
   "metadata": {},
   "outputs": [],
   "source": [
    "number = int(input(\"Digite o valor: \"))\n",
    "\n",
    "factorial = 1\n",
    "\n",
    "for i in range(1, number + 1):\n",
    "    factorial *= i\n",
    "\n",
    "print(\" O factorial é {}\".format(factorial))"
   ]
  },
  {
   "cell_type": "code",
   "execution_count": null,
   "metadata": {},
   "outputs": [],
   "source": [
    "count = int(input(\"Digite a quantidade de elementos: \"))\n",
    "concat = \"\"\n",
    "\n",
    "for i in range(0, count):\n",
    "    concat += \" \" + input(\"Digite a string: \")\n",
    "\n",
    "print(\"A string concartenada é {}\".format(concat))"
   ]
  },
  {
   "cell_type": "code",
   "execution_count": null,
   "metadata": {},
   "outputs": [],
   "source": [
    "number = int(input(\"Digite o valor: \"))\n",
    "\n",
    "for i in range(1, 13):\n",
    "    print(\"%d / %d = %.3f\"%(number, i, float(number/i)))"
   ]
  },
  {
   "cell_type": "code",
   "execution_count": null,
   "metadata": {},
   "outputs": [],
   "source": [
    "\n",
    "nDiv = 0\n",
    "\n",
    "for i in range(3, 31):\n",
    "    for j in range(2, i):\n",
    "        if not i % j:\n",
    "            nDiv += 1\n",
    "    if nDiv == 0:\n",
    "        print(\"primo {}\".format(i))\n",
    "    nDiv = 0\n",
    "    "
   ]
  }
 ],
 "metadata": {
  "kernelspec": {
   "display_name": "Python 3",
   "language": "python",
   "name": "python3"
  },
  "language_info": {
   "codemirror_mode": {
    "name": "ipython",
    "version": 3
   },
   "file_extension": ".py",
   "mimetype": "text/x-python",
   "name": "python",
   "nbconvert_exporter": "python",
   "pygments_lexer": "ipython3",
   "version": "3.10.6"
  },
  "orig_nbformat": 4
 },
 "nbformat": 4,
 "nbformat_minor": 2
}
