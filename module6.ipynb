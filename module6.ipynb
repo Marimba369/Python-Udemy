{
 "cells": [
  {
   "cell_type": "code",
   "execution_count": null,
   "metadata": {},
   "outputs": [],
   "source": [
    "class Animal:\n",
    "    count_animal = 0\n",
    "\n",
    "    def __init__(self, color, breed):\n",
    "        Animal.color = color\n",
    "        Animal.breed = breed\n",
    "        Animal.count_animal += 1\n",
    "    #def print\n",
    "\n",
    "list_Animal = list()\n",
    "\n",
    "animal = Animal(\"Black\",\"Buldog\")\n",
    "\n",
    "list_Animal.append(animal)\n",
    "\n",
    "animal2 = Animal(\"Brown\",\"Boerlboel\")\n",
    "\n",
    "list_Animal.append(animal2)\n",
    "\n",
    "print(list_Animal[0].color)"
   ]
  },
  {
   "cell_type": "code",
   "execution_count": null,
   "metadata": {},
   "outputs": [],
   "source": [
    "x = [1,2,3,2,32,43,4]\n",
    "\n",
    "print(f\"O valor de x é = {x}\")"
   ]
  },
  {
   "cell_type": "code",
   "execution_count": null,
   "metadata": {},
   "outputs": [],
   "source": [
    "class Animal:\n",
    "    def __init__(self, breed, color, name):\n",
    "        self.__name = name\n",
    "        self.__breed = breed\n",
    "        self.__color = color\n",
    "\n",
    "    def get_name(self):\n",
    "        return self.__name\n",
    "    \n",
    "    def set_name(self, name):\n",
    "        self.__name = name\n",
    "\n",
    "    name = property(get_name, set_name)\n",
    "\n",
    "\n",
    "class invertebrates( Animal ):\n",
    "    def __init__(self, breed, color, name):\n",
    "        Animal.__init__(self, breed, color, name)\n",
    "\n",
    "\n",
    "animal = invertebrates(\"Repteis\", \"brown\", \"Centopeias\")\n",
    "\n",
    "print(animal.get_name())\n",
    "\n",
    "\n"
   ]
  },
  {
   "cell_type": "code",
   "execution_count": null,
   "metadata": {},
   "outputs": [],
   "source": [
    "class Animal:\n",
    "    def __init__(self, breed, color, name):\n",
    "        self.__name = name\n",
    "        self.__color = color\n",
    "        self.__breed = breed\n",
    "\n",
    "    @property\n",
    "    def get_name(self):\n",
    "        return self.__name"
   ]
  },
  {
   "cell_type": "code",
   "execution_count": null,
   "metadata": {},
   "outputs": [],
   "source": [
    "class Carro:\n",
    "    def __init__(self):\n",
    "        pass\n",
    "\n",
    "    @staticmethod\n",
    "    def insert(self):\n",
    "        def __init__(self):\n",
    "            self.__comb = 210 + \"Km/l\"\n",
    "            self._potencia = 230 + \"cavalo\"\n",
    "\n",
    "    @property\n",
    "    def get_combust(self):\n",
    "        return self.__comb\n",
    "    @property\n",
    "    def get_potencia(self):\n",
    "        return self.__potencia\n",
    "\n",
    "    def print_atribute(self):\n",
    "        print(self.get_combust())\n",
    "\n",
    "\n",
    "carro = Carro()\n",
    "carro.print_atribute\n"
   ]
  }
 ],
 "metadata": {
  "kernelspec": {
   "display_name": "Python 3",
   "language": "python",
   "name": "python3"
  },
  "language_info": {
   "codemirror_mode": {
    "name": "ipython",
    "version": 3
   },
   "file_extension": ".py",
   "mimetype": "text/x-python",
   "name": "python",
   "nbconvert_exporter": "python",
   "pygments_lexer": "ipython3",
   "version": "3.10.6"
  },
  "orig_nbformat": 4
 },
 "nbformat": 4,
 "nbformat_minor": 2
}
