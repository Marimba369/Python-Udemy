{
 "cells": [
  {
   "cell_type": "markdown",
   "metadata": {},
   "source": [
    "List"
   ]
  },
  {
   "cell_type": "code",
   "execution_count": null,
   "metadata": {},
   "outputs": [],
   "source": [
    "array = list([1,2,3,4])\n",
    "\n",
    "array2 = list([1,2,3,4])\n",
    "\n",
    "#array2 = list()\n",
    "array2.append(array)\n",
    "\n",
    "array.append(5)\n",
    "array.append(6)\n",
    "#array.append(array)\n",
    "\n",
    "found = array in array2\n",
    "\n",
    "#print(found)\n",
    "\n",
    "#print(array2)\n",
    "\n",
    "array.append(7)\n",
    "\n",
    "for i in array2:\n",
    "    print(i)\n"
   ]
  },
  {
   "cell_type": "code",
   "execution_count": null,
   "metadata": {},
   "outputs": [],
   "source": [
    "string = input(\"Digite os elementos: \")\n",
    "\n",
    "aux_array = list()\n",
    "\n",
    "for i in string:\n",
    "    if i == ' ':\n",
    "        continue\n",
    "    aux_array.append(int(i))"
   ]
  },
  {
   "cell_type": "markdown",
   "metadata": {},
   "source": [
    "Dictionarie"
   ]
  },
  {
   "cell_type": "code",
   "execution_count": null,
   "metadata": {},
   "outputs": [],
   "source": [
    "array = list([0,1,2,8])\n",
    "dictionarie = {'1': array}\n",
    "\n",
    "for x in dictionarie:\n",
    "    print(dictionarie[x])"
   ]
  },
  {
   "cell_type": "code",
   "execution_count": null,
   "metadata": {},
   "outputs": [],
   "source": [
    "array_set = {1 : [x for x in range(0, 10)]}\n",
    "\n",
    "print(array_set)"
   ]
  },
  {
   "cell_type": "markdown",
   "metadata": {},
   "source": [
    "List Comprehensions"
   ]
  },
  {
   "cell_type": "code",
   "execution_count": null,
   "metadata": {},
   "outputs": [],
   "source": [
    "string = input(\"Digite os elementos: \")\n",
    "\n",
    "aux_array = list()\n",
    "\n",
    "for i in string:\n",
    "    if i == ' ':\n",
    "        continue\n",
    "    aux_array.append(int(i))\n",
    "\n",
    "list_comprehe = [str(x)[0] for x in aux_array]\n",
    "\n",
    "print(list_comprehe)"
   ]
  },
  {
   "cell_type": "code",
   "execution_count": null,
   "metadata": {},
   "outputs": [],
   "source": [
    "lista = [1,10,6,7,8,10]\n",
    "soma = 0\n",
    "\n",
    "for x in lista:\n",
    "    soma += x\n",
    "\n",
    "print(soma)"
   ]
  },
  {
   "cell_type": "code",
   "execution_count": null,
   "metadata": {},
   "outputs": [],
   "source": [
    "lista = [x for x in range(1,101)]\n",
    "\n",
    "print(lista)"
   ]
  },
  {
   "cell_type": "code",
   "execution_count": null,
   "metadata": {},
   "outputs": [],
   "source": [
    "lista1 = [30,4,43,52,65,-10]\n",
    "lista2 = [43,2,4,76,32,65,3]\n",
    "\n",
    "listaUni = [ x for x in lista1 ]\n",
    "listaUni += [x for x in lista2 if x not in lista1]\n",
    "\n",
    "listaUni"
   ]
  },
  {
   "cell_type": "code",
   "execution_count": null,
   "metadata": {},
   "outputs": [],
   "source": [
    "lista = [\"Janeiro\", \"Fevereiro\", \"Março\", \"Abril\", \"Maio\", \"Junho\", \"Julho\", \"Agosto\", \"Setembro\", \"Outubro\", \"Novembro\", \"Dezembro\"]\n",
    "\n",
    "print(lista[int(input(\"Digite o mês em número: \"))-1])"
   ]
  },
  {
   "cell_type": "code",
   "execution_count": null,
   "metadata": {},
   "outputs": [],
   "source": [
    "lista = [x for x in range(1, 32)]\n",
    "\n",
    "lista.remove(int(input(\"Digite o dia do seu nascimento: \")))\n",
    "\n",
    "print(\"Agosto day\", lista)"
   ]
  },
  {
   "cell_type": "code",
   "execution_count": null,
   "metadata": {},
   "outputs": [],
   "source": [
    "lista = [1,2,3,4]\n",
    "tupla = (1,2,3,4)\n",
    "setss = {1,2,4,5}\n",
    "\n",
    "dictionarie = {\"Lista\" : lista, \"Tupla\" : tupla, \"Sets\" : setss}\n",
    "\n",
    "key = input(\"Digite o nome do objecto: \")\n",
    "\n",
    "print(  dictionarie[key] if key in dictionarie  else \"Objecto não existe\" )\n"
   ]
  },
  {
   "cell_type": "code",
   "execution_count": null,
   "metadata": {},
   "outputs": [],
   "source": [
    "lista = [x for x in range(-30, -20)]\n",
    "\n",
    "print(lista)"
   ]
  },
  {
   "cell_type": "code",
   "execution_count": null,
   "metadata": {},
   "outputs": [],
   "source": [
    "lista = [x for x in range(4, 101) if not x % 4]\n",
    "\n",
    "print(lista)"
   ]
  },
  {
   "cell_type": "code",
   "execution_count": null,
   "metadata": {},
   "outputs": [],
   "source": [
    "lista = [x for x in range(1, 101) if not x % 10]\n",
    "\n",
    "print(lista)"
   ]
  },
  {
   "cell_type": "code",
   "execution_count": null,
   "metadata": {},
   "outputs": [],
   "source": [
    "lista = ['0' if not x % 10 else '-' for x in range(0, 21)]\n",
    "\n",
    "print(lista)"
   ]
  },
  {
   "cell_type": "code",
   "execution_count": null,
   "metadata": {},
   "outputs": [],
   "source": [
    "list = [[x][y] for x in (for y in range(0, 9))]"
   ]
  }
 ],
 "metadata": {
  "kernelspec": {
   "display_name": "Python 3",
   "language": "python",
   "name": "python3"
  },
  "language_info": {
   "codemirror_mode": {
    "name": "ipython",
    "version": 3
   },
   "file_extension": ".py",
   "mimetype": "text/x-python",
   "name": "python",
   "nbconvert_exporter": "python",
   "pygments_lexer": "ipython3",
   "version": "3.10.12"
  },
  "orig_nbformat": 4
 },
 "nbformat": 4,
 "nbformat_minor": 2
}
