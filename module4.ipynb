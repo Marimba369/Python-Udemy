{
 "cells": [
  {
   "cell_type": "code",
   "execution_count": null,
   "metadata": {},
   "outputs": [],
   "source": [
    "x = \"Hello\"\n",
    "\n",
    "print(x[::-3])"
   ]
  },
  {
   "cell_type": "markdown",
   "metadata": {},
   "source": [
    "Function"
   ]
  },
  {
   "cell_type": "code",
   "execution_count": null,
   "metadata": {},
   "outputs": [],
   "source": [
    "def e_negativ( num ):\n",
    "    return True if num < 0 else False\n",
    "\n",
    "print(e_negativ(-20))"
   ]
  },
  {
   "cell_type": "code",
   "execution_count": null,
   "metadata": {},
   "outputs": [
    {
     "name": "stdout",
     "output_type": "stream",
     "text": [
      "True\n"
     ]
    }
   ],
   "source": [
    "def count_string( word ):\n",
    "    count = 0\n",
    "    for x in word:\n",
    "        if x == 'a' or x == 'e' or x == 'i' or x == 'o' or x == 'u':\n",
    "            count += 1\n",
    "    return count\n",
    "\n",
    "def count_rec( word, length ):\n",
    "    if length < len(word):\n",
    "        return  int(word[length] == 'a' or word[length] == 'e' or word[length] == 'i' or word[length] == 'o' or word[length] == 'u') + count_rec( word, length + 1 )\n",
    "    return 0\n",
    "\n",
    "print(count_rec(\"leonel ira caetano\", 0) == count_string(\"leonel ira caetano\"))"
   ]
  },
  {
   "cell_type": "code",
   "execution_count": null,
   "metadata": {},
   "outputs": [],
   "source": [
    "def ret_charect( string ):\n",
    "    return string[::-1]\n",
    "\n",
    "print(ret_charect(\"londre\"))"
   ]
  },
  {
   "cell_type": "code",
   "execution_count": null,
   "metadata": {},
   "outputs": [
    {
     "name": "stdout",
     "output_type": "stream",
     "text": [
      "3\n"
     ]
    }
   ],
   "source": [
    "def sum( lista ):\n",
    "    soma = 0\n",
    "    for x in lista:\n",
    "        soma += x\n",
    "    return soma\n",
    "\n",
    "def sum_rec( lista, length ):\n",
    "    if length < len(lista):\n",
    "        return lista[length] + sum_rec( lista, length + 1 )\n",
    "    return 0\n",
    "\n",
    "lista = [x for x in range(3)]\n",
    "\n",
    "\n",
    "print(sum_rec(lista, 0))"
   ]
  },
  {
   "cell_type": "code",
   "execution_count": null,
   "metadata": {},
   "outputs": [],
   "source": [
    "def operation(num1, num2, sinal):\n",
    "    if sinal == '+':\n",
    "        return num1 + num2\n",
    "    elif sinal == '-':\n",
    "        return num1 - num2\n",
    "    else:\n",
    "        return -1\n",
    "\n",
    "\n",
    "print(operation(2,3,'*'))"
   ]
  },
  {
   "cell_type": "code",
   "execution_count": null,
   "metadata": {},
   "outputs": [
    {
     "name": "stdout",
     "output_type": "stream",
     "text": [
      "'londres figueira catenao'\n"
     ]
    }
   ],
   "source": [
    "def decorator( funct ):\n",
    "    def innerfunct( string ):\n",
    "        return \"'\" + string.lower() + \"'\"\n",
    "    return innerfunct\n",
    "\n",
    "\n",
    "@decorator\n",
    "def tr(string):\n",
    "    return string\n",
    "\n",
    "\n",
    "print(tr(\"LONDRES Figueira caTenao\"))"
   ]
  },
  {
   "cell_type": "code",
   "execution_count": 2,
   "metadata": {},
   "outputs": [
    {
     "name": "stdout",
     "output_type": "stream",
     "text": [
      "SERDNOL\n"
     ]
    }
   ],
   "source": [
    "def decorator(funct):\n",
    "    def innner(string):\n",
    "        return string[::-1]\n",
    "    return innner\n",
    "\n",
    "\n",
    "@decorator\n",
    "def teste(string):\n",
    "    return string\n",
    "\n",
    "print(teste(\"LONDRES\"))\n"
   ]
  },
  {
   "cell_type": "code",
   "execution_count": 36,
   "metadata": {},
   "outputs": [
    {
     "name": "stdout",
     "output_type": "stream",
     "text": [
      "10\n",
      "[0, 0, 0, 0, 0, 0, 0, 0, 0, 0]\n"
     ]
    }
   ],
   "source": [
    "def numberZero( lista, ini, fim ):\n",
    "    if ini == fim:\n",
    "        return 1 if lista[ini] == 0 else 0\n",
    "    return numberZero(lista, ini, (ini + fim) // 2) + numberZero(lista, (ini + fim)//2 + 1, fim)\n",
    "\n",
    "lista = [x * 0 for x in range(10)]\n",
    "\n",
    "print(numberZero(lista, 0, len(lista) - 1))\n",
    "\n",
    "print(lista)"
   ]
  },
  {
   "cell_type": "code",
   "execution_count": null,
   "metadata": {},
   "outputs": [],
   "source": [
    "\n"
   ]
  }
 ],
 "metadata": {
  "kernelspec": {
   "display_name": "Python 3",
   "language": "python",
   "name": "python3"
  },
  "language_info": {
   "codemirror_mode": {
    "name": "ipython",
    "version": 3
   },
   "file_extension": ".py",
   "mimetype": "text/x-python",
   "name": "python",
   "nbconvert_exporter": "python",
   "pygments_lexer": "ipython3",
   "version": "3.10.6"
  },
  "orig_nbformat": 4
 },
 "nbformat": 4,
 "nbformat_minor": 2
}
