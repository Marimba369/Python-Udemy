{
 "cells": [
  {
   "cell_type": "code",
   "execution_count": null,
   "metadata": {},
   "outputs": [],
   "source": [
    "def max(a, b):\n",
    "    return a > b\n",
    "\n",
    "def min(a, b):\n",
    "    return a < b\n",
    "\n",
    "def extreme(funct, a, b, c):\n",
    "    if funct(a, b):\n",
    "        if funct(a, c):\n",
    "            print(\"A\")\n",
    "        else:\n",
    "            print(\"C\")\n",
    "    elif funct(b, c):\n",
    "        print(\"B\")\n",
    "    else:\n",
    "        print(\"C\")\n",
    "\n",
    "extreme(max, 10,10,10)\n",
    "extreme(min, 10, 10,10)"
   ]
  },
  {
   "cell_type": "code",
   "execution_count": null,
   "metadata": {},
   "outputs": [],
   "source": [
    "def payment( wage_time, time_work ):\n",
    "    wage = wage_time * time_work\n",
    "    IR = (wage * 5) / 100\n",
    "    INSS = (wage * 10) / 100\n",
    "    FGTS = (wage * 11) / 100\n",
    "\n",
    "    discount = IR + INSS\n",
    "\n",
    "    print(\" Goss salary - {} \".format(wage) + \"| Discount - {} \".format(discount) + \"| IR - {} \".format(IR) + \"| INSS - {} \".format(INSS) + \"| FGTS - {} \".format(FGTS) + \"| Net Salary - {} \".format(wage-discount) + \"\\n\")\n",
    "    print(\"------------------------------------------------------------------------------------------------------------------------------------------------\")\n",
    "\n",
    "\n",
    "list_wage = [x for x in range(5, 15)]\n",
    "list_time = [x for x in range(120, 130)]\n",
    "\n",
    "for x in range(0, len(list_wage)):\n",
    "    payment(list_wage[x], list_time[x])"
   ]
  },
  {
   "cell_type": "code",
   "execution_count": null,
   "metadata": {},
   "outputs": [],
   "source": [
    "def serie( n ):\n",
    "    return ( 1 if n == 1 else n / (2 * n - 1) + serie(n - 1) )\n",
    "\n",
    "print(serie(2))"
   ]
  },
  {
   "cell_type": "code",
   "execution_count": null,
   "metadata": {},
   "outputs": [],
   "source": [
    "#Serie Harmonica\n",
    "\n",
    "def Harmonica(n):\n",
    "    return (1 if n == 1 else 1 / n + Harmonica(n - 1))\n",
    "\n",
    "print(Harmonica(2))"
   ]
  },
  {
   "cell_type": "code",
   "execution_count": null,
   "metadata": {},
   "outputs": [],
   "source": [
    "string = \"OVO\"\n",
    "\n",
    "\n",
    "print( string[len(string) // 2: ])\n",
    "\n",
    "print(string[:len(string) // 2])"
   ]
  },
  {
   "cell_type": "markdown",
   "metadata": {},
   "source": [
    "Não Terminei, processando..."
   ]
  },
  {
   "cell_type": "code",
   "execution_count": null,
   "metadata": {},
   "outputs": [],
   "source": [
    "def capicua(lista, ini, fim):\n",
    "    if fim == ini:\n",
    "        return True\n",
    "\n",
    "    left = capicua(lista, ini, (ini + fim) // 2) \n",
    "    rigth = capicua(lista, (ini + fim + 1) // 2, fim)\n",
    "\n",
    "    if left != rigth:\n",
    "        return False        \n",
    "\n",
    "lista = [1,3,4,3,2,]\n",
    "print( capicua(lista, 0, len(lista)-1) )"
   ]
  }
 ],
 "metadata": {
  "kernelspec": {
   "display_name": "Python 3",
   "language": "python",
   "name": "python3"
  },
  "language_info": {
   "codemirror_mode": {
    "name": "ipython",
    "version": 3
   },
   "file_extension": ".py",
   "mimetype": "text/x-python",
   "name": "python",
   "nbconvert_exporter": "python",
   "pygments_lexer": "ipython3",
   "version": "3.10.12"
  },
  "orig_nbformat": 4
 },
 "nbformat": 4,
 "nbformat_minor": 2
}
