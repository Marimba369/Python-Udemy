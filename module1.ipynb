{
 "cells": [
  {
   "cell_type": "code",
   "execution_count": null,
   "metadata": {},
   "outputs": [],
   "source": [
    "nome, idade = input(\"Digite seu nome: \"), input(\"Digite a sua idade: \")\n",
    "\n",
    "data = nome + idade\n",
    "\n",
    "data = int(data)\n",
    "\n",
    "print(\"O seu nome é %s e a sua idade %d\" %(nome, data))"
   ]
  },
  {
   "cell_type": "code",
   "execution_count": null,
   "metadata": {},
   "outputs": [],
   "source": [
    "first, second = input(\"first value: \"), input(\"second value: \")\n",
    "\n",
    "first, second = int(first), int(second)\n",
    "\n",
    "result = float(first / second)\n",
    "\n",
    "print(\"the value of div is %f\"%(result))"
   ]
  },
  {
   "cell_type": "code",
   "execution_count": null,
   "metadata": {},
   "outputs": [],
   "source": [
    "#year, month, day, minut, second  = input(), input(), input(), input(), input()\n",
    "\n",
    "print(input(\"Digite o seu nome: \"), input(\"Digite o seu velho: \"), sep=\"/\")"
   ]
  },
  {
   "cell_type": "code",
   "execution_count": null,
   "metadata": {},
   "outputs": [],
   "source": [
    "def prefix( word, prefix, i ):\n",
    "    if( i == 4 ):\n",
    "        return prefix\n",
    "    #prefix += \" \" + word[0:i]\n",
    "    print(word[0:i])\n",
    "    return prefix(word, prefix, i+1)\n",
    "\n",
    "\n",
    "\n",
    "word = input(\"Digite alguma string: \")\n",
    "pre = \" \"\n",
    "\n",
    "#prefix(word, pre, 1)\n",
    "\n",
    "print(word[5:])\n"
   ]
  },
  {
   "cell_type": "code",
   "execution_count": null,
   "metadata": {},
   "outputs": [],
   "source": [
    "string = input(\"Digite a string: \")\n",
    "\n",
    "vogal = \"a\" in string or \"e\" in string or \"i\" in string or \"o\" in string or \"u\" in string\n",
    "\n",
    "\n",
    "print(\"Possui vogal\" if vogal == True else \"Não possui vogal\" )"
   ]
  },
  {
   "cell_type": "code",
   "execution_count": null,
   "metadata": {},
   "outputs": [],
   "source": [
    "nome_completo = input(\"Digite o seu nome: \")\n",
    "\n",
    "sobrenome = nome_completo[7:]\n",
    "\n",
    "nome_completo = nome_completo[0:7]\n",
    "\n",
    "\n",
    "print(nome_completo, sobrenome)"
   ]
  },
  {
   "cell_type": "code",
   "execution_count": null,
   "metadata": {},
   "outputs": [],
   "source": [
    "string = input(\"Digite a string: \")\n",
    "\n",
    "string = string[0:-1]\n",
    "\n",
    "print(string)"
   ]
  },
  {
   "cell_type": "code",
   "execution_count": 5,
   "metadata": {},
   "outputs": [
    {
     "name": "stdout",
     "output_type": "stream",
     "text": [
      "sodot sogima sueM\n"
     ]
    }
   ],
   "source": [
    "string = \"Meus amigos todos\"\n",
    "\n",
    "cat = string[::]\n",
    "\n",
    "print(cat)"
   ]
  },
  {
   "cell_type": "code",
   "execution_count": null,
   "metadata": {},
   "outputs": [],
   "source": [
    "string = input(\"Digite o seu nome: \")\n",
    "\n",
    "string = \"ABC \" + string\n",
    "\n",
    "print(string)"
   ]
  },
  {
   "cell_type": "code",
   "execution_count": null,
   "metadata": {},
   "outputs": [],
   "source": [
    "string = \"coca colas\"\n",
    "\n",
    "teste = string[6:3:-1]\n",
    "\n",
    "print(teste)"
   ]
  }
 ],
 "metadata": {
  "kernelspec": {
   "display_name": "Python 3",
   "language": "python",
   "name": "python3"
  },
  "language_info": {
   "codemirror_mode": {
    "name": "ipython",
    "version": 3
   },
   "file_extension": ".py",
   "mimetype": "text/x-python",
   "name": "python",
   "nbconvert_exporter": "python",
   "pygments_lexer": "ipython3",
   "version": "3.10.12"
  },
  "orig_nbformat": 4
 },
 "nbformat": 4,
 "nbformat_minor": 2
}
